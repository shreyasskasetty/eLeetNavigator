{
 "cells": [
  {
   "cell_type": "code",
   "execution_count": 617,
   "id": "576cdd9c-8c01-4ef7-86dd-7ddfae154787",
   "metadata": {},
   "outputs": [],
   "source": [
    "import pandas as pd\n",
    "import numpy as np"
   ]
  },
  {
   "cell_type": "code",
   "execution_count": 618,
   "id": "65fc5fb0-99fa-4527-ac7f-863ff9f0e55a",
   "metadata": {},
   "outputs": [],
   "source": [
    "df = pd.read_csv('problem_popularity_data.csv')"
   ]
  },
  {
   "cell_type": "code",
   "execution_count": 619,
   "id": "bd8c9195-0b71-4595-b7a1-da95fd7a6fe4",
   "metadata": {},
   "outputs": [],
   "source": [
    "import re\n",
    "def apply_regex(value):\n",
    "    id = re.sub(r'^\\d+\\.\\s*', '', value)\n",
    "    id = id.lower()\n",
    "    id = id.strip()\n",
    "    id = id.replace(\" \", \"-\")\n",
    "    return id\n",
    "\n",
    "df['name'] = df['name'].apply(apply_regex)"
   ]
  },
  {
   "cell_type": "code",
   "execution_count": 621,
   "id": "7d4c15bd-4458-4902-a66f-03f38ce144c6",
   "metadata": {},
   "outputs": [],
   "source": [
    "def convert_to_int(value):\n",
    "    if 'M' in value:\n",
    "        return int(float(value.replace('M', '')) * 10**6)\n",
    "    elif 'K' in value:\n",
    "        return int(float(value.replace('K', '')) * 1000)\n",
    "    else:\n",
    "        return int(value)"
   ]
  },
  {
   "cell_type": "code",
   "execution_count": 622,
   "id": "127b5d22-4607-4b0a-b32a-d4bb628928ed",
   "metadata": {},
   "outputs": [],
   "source": [
    "df['submissions_count'] = df['submissions'].apply(convert_to_int)\n",
    "df['likes_count'] = df ['likes'].apply(convert_to_int)"
   ]
  },
  {
   "cell_type": "code",
   "execution_count": 623,
   "id": "77b96176-0c1b-47f9-97b8-19e7caa9bb70",
   "metadata": {},
   "outputs": [],
   "source": [
    "df = df.drop(0)"
   ]
  },
  {
   "cell_type": "code",
   "execution_count": 624,
   "id": "fb37e8d8-3c9d-4546-ab9a-b8652a7d4fde",
   "metadata": {},
   "outputs": [],
   "source": [
    "df_features = ['name', 'submissions_count', 'likes_count']"
   ]
  },
  {
   "cell_type": "code",
   "execution_count": 625,
   "id": "31b14599-7076-4fab-9fcd-b14bf903f168",
   "metadata": {},
   "outputs": [],
   "source": [
    "df = df.loc[:, df_features]"
   ]
  },
  {
   "cell_type": "code",
   "execution_count": 626,
   "id": "e1259fed-cdf2-4a33-b1f5-c183fe2949b5",
   "metadata": {},
   "outputs": [],
   "source": [
    "df.set_index('name', inplace=True)"
   ]
  },
  {
   "cell_type": "code",
   "execution_count": 628,
   "id": "6dc0c58c-ca21-4771-9467-5ab1188204be",
   "metadata": {},
   "outputs": [],
   "source": [
    "c_df = pd.read_csv('Data/final-problem-data.csv')"
   ]
  },
  {
   "cell_type": "code",
   "execution_count": 630,
   "id": "8061522f-f634-4502-8078-a99955982e4a",
   "metadata": {},
   "outputs": [],
   "source": [
    "c_df['problem_name'] = c_df['id'].apply(lambda x: x.split('.')[1])"
   ]
  },
  {
   "cell_type": "code",
   "execution_count": 631,
   "id": "937c4e95-189a-46c0-847d-e67f36247703",
   "metadata": {},
   "outputs": [],
   "source": [
    "c_df['name'] = c_df['problem_name'].apply(apply_regex)"
   ]
  },
  {
   "cell_type": "code",
   "execution_count": 632,
   "id": "5f3791a2-58b8-4c73-be2e-e9f772796152",
   "metadata": {},
   "outputs": [],
   "source": [
    "c_df.set_index('name', inplace=True)"
   ]
  },
  {
   "cell_type": "code",
   "execution_count": 634,
   "id": "7791f76f-983a-4ca7-b75f-a29d68def448",
   "metadata": {},
   "outputs": [],
   "source": [
    "def count_unique_companies(row):\n",
    "    if pd.isna(row):\n",
    "        return 0\n",
    "    unique_strings = set(row.split(','))\n",
    "    return len(unique_strings)\n",
    "\n",
    "c_df['companies_count'] = c_df['companies'].apply(count_unique_companies)"
   ]
  },
  {
   "cell_type": "code",
   "execution_count": 635,
   "id": "0197552e-95fb-4d91-841d-63e12c579fc8",
   "metadata": {},
   "outputs": [],
   "source": [
    "c_df['comments_count'] = c_df['no-of-comments']"
   ]
  },
  {
   "cell_type": "code",
   "execution_count": 636,
   "id": "8504785d-02d8-4b30-aa86-ad812d0c460c",
   "metadata": {},
   "outputs": [],
   "source": [
    "c_df_features = ['companies_count']"
   ]
  },
  {
   "cell_type": "code",
   "execution_count": 637,
   "id": "8ba30862-7860-418b-af76-9e22d395d051",
   "metadata": {},
   "outputs": [],
   "source": [
    "c_df = c_df.loc[:, c_df_features]"
   ]
  },
  {
   "cell_type": "code",
   "execution_count": 641,
   "id": "97b74d1e-f2cd-4a6e-9043-725e99f34c4f",
   "metadata": {},
   "outputs": [],
   "source": [
    "df = pd.merge(df, c_df, on='name', how='inner')"
   ]
  },
  {
   "cell_type": "code",
   "execution_count": 646,
   "id": "052bf94c-4843-4d39-95ee-e84f5bf1aa77",
   "metadata": {},
   "outputs": [],
   "source": [
    "t_df = df.copy()"
   ]
  },
  {
   "cell_type": "code",
   "execution_count": 648,
   "id": "59326386-b8b2-4931-b463-6f06c3131498",
   "metadata": {},
   "outputs": [
    {
     "name": "stdout",
     "output_type": "stream",
     "text": [
      "Empty DataFrame\n",
      "Columns: [submissions_count, likes_count, companies_count]\n",
      "Index: []\n"
     ]
    }
   ],
   "source": [
    "rows_with_nan = df[df.isna().any(axis=1)]\n",
    "print(rows_with_nan)"
   ]
  },
  {
   "cell_type": "code",
   "execution_count": 649,
   "id": "f0316f36-2b73-4b6b-ba9c-77c50e81b8a4",
   "metadata": {},
   "outputs": [],
   "source": [
    "from sklearn.cluster import KMeans\n",
    "import matplotlib.pyplot as plt\n",
    "from sklearn.decomposition import PCA\n",
    "from sklearn.preprocessing import StandardScaler"
   ]
  },
  {
   "cell_type": "code",
   "execution_count": 650,
   "id": "bf280d20-2e10-4125-b95d-c499a6c13c8a",
   "metadata": {},
   "outputs": [],
   "source": [
    "def z_score_normalize(column):\n",
    "    mean = column.mean()\n",
    "    std_dev = column.std()\n",
    "    normalized_column = (column - mean) / std_dev\n",
    "    return normalized_column"
   ]
  },
  {
   "cell_type": "code",
   "execution_count": 651,
   "id": "1bd4c5d1-9dac-4d48-a682-a3df97c795d2",
   "metadata": {},
   "outputs": [],
   "source": [
    "for col in df.columns:\n",
    "    df[col] = z_score_normalize(df[col])"
   ]
  },
  {
   "cell_type": "code",
   "execution_count": 652,
   "id": "c55c5618-1b3e-4b32-bc8f-708f1b5d7f64",
   "metadata": {},
   "outputs": [
    {
     "name": "stdout",
     "output_type": "stream",
     "text": [
      "                                                submissions_count  \\\n",
      "name                                                                \n",
      "two-sum                                                 22.818563   \n",
      "add-two-numbers                                          9.565741   \n",
      "longest-substring-without-repeating-characters          15.056196   \n",
      "median-of-two-sorted-arrays                              5.589894   \n",
      "longest-palindromic-substring                            8.051132   \n",
      "...                                                           ...   \n",
      "harshad-number                                          -0.329479   \n",
      "water-bottles-ii                                        -0.332982   \n",
      "count-alternating-subarrays                             -0.327018   \n",
      "minimize-manhattan-distances                            -0.353524   \n",
      "find-trending-hashtags-ii                               -0.373663   \n",
      "\n",
      "                                                likes_count  companies_count  \n",
      "name                                                                          \n",
      "two-sum                                           13.942810         9.399357  \n",
      "add-two-numbers                                    7.350500         4.979382  \n",
      "longest-substring-without-repeating-characters     9.617421         8.515362  \n",
      "median-of-two-sorted-arrays                        6.673029         4.979382  \n",
      "longest-palindromic-substring                      6.959651         6.747372  \n",
      "...                                                     ...              ...  \n",
      "harshad-number                                    -0.550891        -0.766585  \n",
      "water-bottles-ii                                  -0.547765        -0.766585  \n",
      "count-alternating-subarrays                       -0.529525        -0.324587  \n",
      "minimize-manhattan-distances                      -0.536560        -0.766585  \n",
      "find-trending-hashtags-ii                         -0.570173        -0.766585  \n",
      "\n",
      "[3102 rows x 3 columns]\n"
     ]
    }
   ],
   "source": [
    "print(df)"
   ]
  },
  {
   "cell_type": "code",
   "execution_count": 208,
   "id": "1b4473ea-4e72-4ba5-bfd2-98f2a3c395b8",
   "metadata": {},
   "outputs": [
    {
     "name": "stderr",
     "output_type": "stream",
     "text": [
      "C:\\ProgramData\\anaconda3\\Lib\\site-packages\\sklearn\\cluster\\_kmeans.py:870: FutureWarning: The default value of `n_init` will change from 10 to 'auto' in 1.4. Set the value of `n_init` explicitly to suppress the warning\n",
      "  warnings.warn(\n",
      "C:\\ProgramData\\anaconda3\\Lib\\site-packages\\sklearn\\cluster\\_kmeans.py:870: FutureWarning: The default value of `n_init` will change from 10 to 'auto' in 1.4. Set the value of `n_init` explicitly to suppress the warning\n",
      "  warnings.warn(\n",
      "C:\\ProgramData\\anaconda3\\Lib\\site-packages\\sklearn\\cluster\\_kmeans.py:870: FutureWarning: The default value of `n_init` will change from 10 to 'auto' in 1.4. Set the value of `n_init` explicitly to suppress the warning\n",
      "  warnings.warn(\n",
      "C:\\ProgramData\\anaconda3\\Lib\\site-packages\\sklearn\\cluster\\_kmeans.py:870: FutureWarning: The default value of `n_init` will change from 10 to 'auto' in 1.4. Set the value of `n_init` explicitly to suppress the warning\n",
      "  warnings.warn(\n",
      "C:\\ProgramData\\anaconda3\\Lib\\site-packages\\sklearn\\cluster\\_kmeans.py:870: FutureWarning: The default value of `n_init` will change from 10 to 'auto' in 1.4. Set the value of `n_init` explicitly to suppress the warning\n",
      "  warnings.warn(\n",
      "C:\\ProgramData\\anaconda3\\Lib\\site-packages\\sklearn\\cluster\\_kmeans.py:870: FutureWarning: The default value of `n_init` will change from 10 to 'auto' in 1.4. Set the value of `n_init` explicitly to suppress the warning\n",
      "  warnings.warn(\n",
      "C:\\ProgramData\\anaconda3\\Lib\\site-packages\\sklearn\\cluster\\_kmeans.py:870: FutureWarning: The default value of `n_init` will change from 10 to 'auto' in 1.4. Set the value of `n_init` explicitly to suppress the warning\n",
      "  warnings.warn(\n",
      "C:\\ProgramData\\anaconda3\\Lib\\site-packages\\sklearn\\cluster\\_kmeans.py:870: FutureWarning: The default value of `n_init` will change from 10 to 'auto' in 1.4. Set the value of `n_init` explicitly to suppress the warning\n",
      "  warnings.warn(\n",
      "C:\\ProgramData\\anaconda3\\Lib\\site-packages\\sklearn\\cluster\\_kmeans.py:870: FutureWarning: The default value of `n_init` will change from 10 to 'auto' in 1.4. Set the value of `n_init` explicitly to suppress the warning\n",
      "  warnings.warn(\n",
      "C:\\ProgramData\\anaconda3\\Lib\\site-packages\\sklearn\\cluster\\_kmeans.py:870: FutureWarning: The default value of `n_init` will change from 10 to 'auto' in 1.4. Set the value of `n_init` explicitly to suppress the warning\n",
      "  warnings.warn(\n"
     ]
    },
    {
     "data": {
      "image/png": "[encoded data removed]",
      "text/plain": [
       "<Figure size 640x480 with 1 Axes>"
      ]
     },
     "metadata": {},
     "output_type": "display_data"
    }
   ],
   "source": [
    "from sklearn.cluster import KMeans\n",
    "import matplotlib.pyplot as plt\n",
    "\n",
    "cluster_range = range(1, 11)\n",
    "distortions = []\n",
    "\n",
    "for n_clusters in cluster_range:\n",
    "    kmeans = KMeans(n_clusters)\n",
    "    kmeans.fit(df)\n",
    "    distortions.append(kmeans.inertia_)\n",
    "\n",
    "plt.plot(cluster_range, distortions, marker='o')\n",
    "plt.xlabel('Number of clusters')\n",
    "plt.ylabel('Distortion')\n",
    "plt.title('Elbow Method')\n",
    "plt.show()\n"
   ]
  },
  {
   "cell_type": "code",
   "execution_count": 653,
   "id": "6ddcd59d-b1c8-4622-acc2-5841d353b227",
   "metadata": {},
   "outputs": [
    {
     "name": "stderr",
     "output_type": "stream",
     "text": [
      "C:\\ProgramData\\anaconda3\\Lib\\site-packages\\sklearn\\cluster\\_kmeans.py:870: FutureWarning: The default value of `n_init` will change from 10 to 'auto' in 1.4. Set the value of `n_init` explicitly to suppress the warning\n",
      "  warnings.warn(\n"
     ]
    },
    {
     "name": "stdout",
     "output_type": "stream",
     "text": [
      "Cluster centers:\n",
      "[[-0.26671534 -0.34434736 -0.29507437]\n",
      " [ 7.66251568  6.44812005  7.23589552]\n",
      " [ 2.64434872  2.95048488  2.73049904]\n",
      " [ 0.46586685  0.8904409   0.6277256 ]]\n"
     ]
    }
   ],
   "source": [
    "n_clusters=4\n",
    "\n",
    "kmeans = KMeans(n_clusters)\n",
    "\n",
    "kmeans.fit(df)\n",
    "\n",
    "labels = kmeans.labels_\n",
    "df['cluster'] = labels\n",
    "\n",
    "print(\"Cluster centers:\")\n",
    "print(kmeans.cluster_centers_)\n"
   ]
  },
  {
   "cell_type": "code",
   "execution_count": 654,
   "id": "97c8adb6-d9c2-437f-b3c8-e7c629642398",
   "metadata": {},
   "outputs": [
    {
     "data": {
      "image/png": "[encoded data removed]",
      "text/plain": [
       "<Figure size 640x480 with 1 Axes>"
      ]
     },
     "metadata": {},
     "output_type": "display_data"
    }
   ],
   "source": [
    "pca = PCA(n_components=2)\n",
    "data_2d = pca.fit_transform(df.drop('cluster', axis=1))\n",
    "\n",
    "plt.scatter(data_2d[:, 0], data_2d[:, 1], c=df['cluster'], cmap='viridis')\n",
    "plt.xlabel('PC1')\n",
    "plt.ylabel('PC2')\n",
    "plt.title('KMeans Clustering (2D)')\n",
    "plt.show()"
   ]
  },
  {
   "cell_type": "code",
   "execution_count": 655,
   "id": "6beae9d5-fef7-41d2-b89c-d6bdde8413da",
   "metadata": {},
   "outputs": [
    {
     "name": "stdout",
     "output_type": "stream",
     "text": [
      "2532\n",
      "19\n",
      "125\n",
      "426\n"
     ]
    }
   ],
   "source": [
    "for i in range(n_clusters):\n",
    "    indexes = df.index[df['cluster'] == i].tolist()\n",
    "    #print(\"Indexes with 'cluster' value of \", i, \":\", indexes)\n",
    "    print(len(indexes))"
   ]
  },
  {
   "cell_type": "code",
   "execution_count": 451,
   "id": "b4bff492-e127-4cb6-9d06-d4d7fe1c0823",
   "metadata": {},
   "outputs": [
    {
     "name": "stdout",
     "output_type": "stream",
     "text": [
      "                                                submissions_count  \\\n",
      "name                                                                \n",
      "two-sum                                                 22.818563   \n",
      "add-two-numbers                                          9.565741   \n",
      "longest-substring-without-repeating-characters          15.056196   \n",
      "median-of-two-sorted-arrays                              5.589894   \n",
      "longest-palindromic-substring                            8.051132   \n",
      "...                                                           ...   \n",
      "harshad-number                                          -0.329479   \n",
      "water-bottles-ii                                        -0.332982   \n",
      "count-alternating-subarrays                             -0.327018   \n",
      "minimize-manhattan-distances                            -0.353524   \n",
      "find-trending-hashtags-ii                               -0.373663   \n",
      "\n",
      "                                                likes_count  companies_count  \\\n",
      "name                                                                           \n",
      "two-sum                                           13.942810         9.399357   \n",
      "add-two-numbers                                    7.350500         4.979382   \n",
      "longest-substring-without-repeating-characters     9.617421         8.515362   \n",
      "median-of-two-sorted-arrays                        6.673029         4.979382   \n",
      "longest-palindromic-substring                      6.959651         6.747372   \n",
      "...                                                     ...              ...   \n",
      "harshad-number                                    -0.550891        -0.766585   \n",
      "water-bottles-ii                                  -0.547765        -0.766585   \n",
      "count-alternating-subarrays                       -0.529525        -0.324587   \n",
      "minimize-manhattan-distances                      -0.536560        -0.766585   \n",
      "find-trending-hashtags-ii                         -0.570173        -0.766585   \n",
      "\n",
      "                                                cluster  \n",
      "name                                                     \n",
      "two-sum                                               2  \n",
      "add-two-numbers                                       2  \n",
      "longest-substring-without-repeating-characters        2  \n",
      "median-of-two-sorted-arrays                           2  \n",
      "longest-palindromic-substring                         2  \n",
      "...                                                 ...  \n",
      "harshad-number                                        0  \n",
      "water-bottles-ii                                      0  \n",
      "count-alternating-subarrays                           0  \n",
      "minimize-manhattan-distances                          0  \n",
      "find-trending-hashtags-ii                             0  \n",
      "\n",
      "[3102 rows x 4 columns]\n"
     ]
    }
   ],
   "source": [
    "print(df)"
   ]
  },
  {
   "cell_type": "code",
   "execution_count": 452,
   "id": "efce0e3c-8778-413b-ba24-8756f272eff3",
   "metadata": {},
   "outputs": [],
   "source": [
    "df_features = ['cluster']\n",
    "df = df.loc[:, df_features]"
   ]
  },
  {
   "cell_type": "code",
   "execution_count": 453,
   "id": "fdbc5b8a-dfd6-44bc-b5dd-89df81d554e9",
   "metadata": {},
   "outputs": [],
   "source": [
    "df = pd.merge(df, t_df, on='name', how='inner')"
   ]
  },
  {
   "cell_type": "code",
   "execution_count": 454,
   "id": "e2dd2f14-ce25-4403-83b3-43425dcc81bc",
   "metadata": {},
   "outputs": [
    {
     "name": "stdout",
     "output_type": "stream",
     "text": [
      "                                                cluster  submissions_count  \\\n",
      "name                                                                         \n",
      "two-sum                                               2           24500000   \n",
      "add-two-numbers                                       2           10500000   \n",
      "longest-substring-without-repeating-characters        2           16300000   \n",
      "median-of-two-sorted-arrays                           2            6300000   \n",
      "longest-palindromic-substring                         2            8900000   \n",
      "\n",
      "                                                likes_count  companies_count  \n",
      "name                                                                          \n",
      "two-sum                                               55700               23  \n",
      "add-two-numbers                                       30400               13  \n",
      "longest-substring-without-repeating-characters        39100               21  \n",
      "median-of-two-sorted-arrays                           27800               13  \n",
      "longest-palindromic-substring                         28900               17  \n"
     ]
    }
   ],
   "source": [
    "print(df.head())"
   ]
  },
  {
   "cell_type": "code",
   "execution_count": 462,
   "id": "00864674-60f2-4363-b43a-a218ea6e18f1",
   "metadata": {},
   "outputs": [],
   "source": [
    "df.to_csv('popularity.csv', index=True)"
   ]
  }
 ],
 "metadata": {
  "kernelspec": {
   "display_name": "Python 3 (ipykernel)",
   "language": "python",
   "name": "python3"
  },
  "language_info": {
   "codemirror_mode": {
    "name": "ipython",
    "version": 3
   },
   "file_extension": ".py",
   "mimetype": "text/x-python",
   "name": "python",
   "nbconvert_exporter": "python",
   "pygments_lexer": "ipython3",
   "version": "3.11.7"
  }
 },
 "nbformat": 4,
 "nbformat_minor": 5
}
